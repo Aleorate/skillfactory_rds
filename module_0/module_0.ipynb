{
 "cells": [
  {
   "cell_type": "code",
   "execution_count": null,
   "metadata": {},
   "outputs": [],
   "source": [
    "import numpy as np\n",
    "number = np.random.randint(1, 101) # asked number     \n",
    "def game_core_v3(number):\n",
    "    x = 1\n",
    "    y = 101\n",
    "    guess = np.random.randint(x, y) # estimated number\n",
    "    tries = 0                       # attempt counter\n",
    "    while guess != number:        # cycle until the number is guessed\n",
    "        tries += 1              # plus attempt count\n",
    "        '''If estimated number < asked number set lower limit in random to estimated number + 1 (so it does not happen again),\n",
    "if estimated number > asked number set upper limit in random to estimated number'''\n",
    "        if number > guess:\n",
    "            x = guess + 1\n",
    "            guess = np.random.randint(x, y)\n",
    "        elif number < guess:\n",
    "            y = guess\n",
    "            guess = np.random.randint(x, y)\n",
    "    return(tries)\n",
    "\n",
    "def score_game(game_core):\n",
    "    '''Run the game 1000 times to see how quickly the game guesses the number'''\n",
    "    count_ls = []\n",
    "    np.random.seed(1)     # fixate RANDOM SEED to make the experiment reproducible\n",
    "    random_array = np.random.randint(1,101, size=(1000))\n",
    "    for number in random_array:\n",
    "        count_ls.append(game_core(number))\n",
    "    score = int(np.mean(count_ls))       #count the arithmetic mean  \n",
    "    return(print(f\"Ваш алгоритм угадывает число в среднем за {score} попыток\"))\n",
    "score_game(game_core_v3)"
   ]
  }
 ],
 "metadata": {
  "kernelspec": {
   "display_name": "Python 3",
   "language": "python",
   "name": "python3"
  },
  "language_info": {
   "codemirror_mode": {
    "name": "ipython",
    "version": 3
   },
   "file_extension": ".py",
   "mimetype": "text/x-python",
   "name": "python",
   "nbconvert_exporter": "python",
   "pygments_lexer": "ipython3",
   "version": "3.8.3"
  }
 },
 "nbformat": 4,
 "nbformat_minor": 4
}
