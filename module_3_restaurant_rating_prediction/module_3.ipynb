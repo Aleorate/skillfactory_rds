{
 "cells": [
  {
   "cell_type": "markdown",
   "metadata": {},
   "source": [
    "# Libraries"
   ]
  },
  {
   "cell_type": "code",
   "execution_count": 1,
   "metadata": {},
   "outputs": [],
   "source": [
    "from datetime import datetime\n",
    "import pandas as pd\n",
    "import numpy as np\n",
    "import random\n",
    "import missingno as msno\n",
    "import seaborn as sns\n",
    "import matplotlib.pyplot as plt\n",
    "import re\n",
    "from bs4 import BeautifulSoup\n",
    "import requests\n",
    "import warnings\n",
    "warnings.simplefilter('ignore')"
   ]
  },
  {
   "cell_type": "code",
   "execution_count": 2,
   "metadata": {},
   "outputs": [
    {
     "name": "stdout",
     "output_type": "stream",
     "text": [
      "<class 'pandas.core.frame.DataFrame'>\n",
      "RangeIndex: 40000 entries, 0 to 39999\n",
      "Data columns (total 10 columns):\n",
      " #   Column             Non-Null Count  Dtype  \n",
      "---  ------             --------------  -----  \n",
      " 0   Restaurant_id      40000 non-null  object \n",
      " 1   City               40000 non-null  object \n",
      " 2   Cuisine Style      30717 non-null  object \n",
      " 3   Ranking            40000 non-null  float64\n",
      " 4   Rating             40000 non-null  float64\n",
      " 5   Price Range        26114 non-null  object \n",
      " 6   Number of Reviews  37457 non-null  float64\n",
      " 7   Reviews            40000 non-null  object \n",
      " 8   URL_TA             40000 non-null  object \n",
      " 9   ID_TA              40000 non-null  object \n",
      "dtypes: float64(3), object(7)\n",
      "memory usage: 3.1+ MB\n"
     ]
    },
    {
     "data": {
      "text/plain": [
       "None"
      ]
     },
     "metadata": {},
     "output_type": "display_data"
    },
    {
     "data": {
      "text/html": [
       "<div>\n",
       "<style scoped>\n",
       "    .dataframe tbody tr th:only-of-type {\n",
       "        vertical-align: middle;\n",
       "    }\n",
       "\n",
       "    .dataframe tbody tr th {\n",
       "        vertical-align: top;\n",
       "    }\n",
       "\n",
       "    .dataframe thead th {\n",
       "        text-align: right;\n",
       "    }\n",
       "</style>\n",
       "<table border=\"1\" class=\"dataframe\">\n",
       "  <thead>\n",
       "    <tr style=\"text-align: right;\">\n",
       "      <th></th>\n",
       "      <th>Restaurant_id</th>\n",
       "      <th>City</th>\n",
       "      <th>Cuisine Style</th>\n",
       "      <th>Ranking</th>\n",
       "      <th>Rating</th>\n",
       "      <th>Price Range</th>\n",
       "      <th>Number of Reviews</th>\n",
       "      <th>Reviews</th>\n",
       "      <th>URL_TA</th>\n",
       "      <th>ID_TA</th>\n",
       "    </tr>\n",
       "  </thead>\n",
       "  <tbody>\n",
       "    <tr>\n",
       "      <th>30025</th>\n",
       "      <td>id_425</td>\n",
       "      <td>Oporto</td>\n",
       "      <td>NaN</td>\n",
       "      <td>426.0</td>\n",
       "      <td>4.5</td>\n",
       "      <td>NaN</td>\n",
       "      <td>33.0</td>\n",
       "      <td>[['Very good price / quality ratio', 'One of the best sushi restaurants in Europ...'], ['02/03/2018', '05/31/2017']]</td>\n",
       "      <td>/Restaurant_Review-g189180-d12438510-Reviews-Sabores_do_Sushi-Porto_Porto_District_Northern_Portugal.html</td>\n",
       "      <td>d12438510</td>\n",
       "    </tr>\n",
       "  </tbody>\n",
       "</table>\n",
       "</div>"
      ],
      "text/plain": [
       "      Restaurant_id    City Cuisine Style  Ranking  Rating Price Range  \\\n",
       "30025        id_425  Oporto           NaN    426.0     4.5         NaN   \n",
       "\n",
       "       Number of Reviews  \\\n",
       "30025               33.0   \n",
       "\n",
       "                                                                                                                    Reviews  \\\n",
       "30025  [['Very good price / quality ratio', 'One of the best sushi restaurants in Europ...'], ['02/03/2018', '05/31/2017']]   \n",
       "\n",
       "                                                                                                          URL_TA  \\\n",
       "30025  /Restaurant_Review-g189180-d12438510-Reviews-Sabores_do_Sushi-Porto_Porto_District_Northern_Portugal.html   \n",
       "\n",
       "           ID_TA  \n",
       "30025  d12438510  "
      ]
     },
     "metadata": {},
     "output_type": "display_data"
    }
   ],
   "source": [
    "data = pd.read_csv('main_task.csv')\n",
    "cities = pd.read_csv('all_cities.csv', index_col=0)\n",
    "cities.set_index('Name', inplace=True)\n",
    "capitals = pd.read_csv('capitals.csv', index_col=0)\n",
    "pd.options.display.max_colwidth = 150\n",
    "g_words = pd.read_csv('positive-words.txt', header=None)\n",
    "b_words = pd.read_csv('negative-words.csv', header=None)\n",
    "life = pd.read_csv('level_life.csv')\n",
    "life.set_index('Country', inplace=True)\n",
    "\n",
    "display(data.info(),\n",
    "        data.sample())"
   ]
  },
  {
   "cell_type": "code",
   "execution_count": 3,
   "metadata": {},
   "outputs": [
    {
     "data": {
      "text/plain": [
       "<matplotlib.axes._subplots.AxesSubplot at 0x228c1d9feb0>"
      ]
     },
     "execution_count": 3,
     "metadata": {},
     "output_type": "execute_result"
    },
    {
     "data": {
      "image/png": "[encoded data removed]",
      "text/plain": [
       "<Figure size 432x432 with 2 Axes>"
      ]
     },
     "metadata": {
      "needs_background": "light"
     },
     "output_type": "display_data"
    }
   ],
   "source": [
    "msno.heatmap(data, figsize=(6, 6))"
   ]
  },
  {
   "cell_type": "markdown",
   "metadata": {},
   "source": [
    "На графике видна существенна взаимосвязь пропущенный значений 'cuisine' и 'price' "
   ]
  },
  {
   "cell_type": "code",
   "execution_count": 4,
   "metadata": {},
   "outputs": [
    {
     "data": {
      "text/plain": [
       "True    9283\n",
       "Name: Price Range, dtype: int64"
      ]
     },
     "execution_count": 4,
     "metadata": {},
     "output_type": "execute_result"
    }
   ],
   "source": [
    "# более того, все пропущенные значения в 'cuisine' также не существуют и в 'price'\n",
    "data[data['Cuisine Style'].astype(\n",
    "    str) == 'nan']['Price Range'].isna().value_counts()"
   ]
  },
  {
   "cell_type": "code",
   "execution_count": 5,
   "metadata": {},
   "outputs": [
    {
     "data": {
      "text/plain": [
       "<matplotlib.axes._subplots.AxesSubplot at 0x228c3594460>"
      ]
     },
     "execution_count": 5,
     "metadata": {},
     "output_type": "execute_result"
    },
    {
     "data": {
      "image/png": "[encoded data removed]",
      "text/plain": [
       "<Figure size 720x504 with 1 Axes>"
      ]
     },
     "metadata": {
      "needs_background": "light"
     },
     "output_type": "display_data"
    }
   ],
   "source": [
    "plt.rcParams['figure.figsize'] = (10,7)\n",
    "data['Ranking'].hist(bins=100)"
   ]
  },
  {
   "cell_type": "markdown",
   "metadata": {},
   "source": [
    "У нас много ресторанов, которые не дотягивают и до 2500 места в своем городе"
   ]
  },
  {
   "cell_type": "code",
   "execution_count": 6,
   "metadata": {},
   "outputs": [
    {
     "data": {
      "text/plain": [
       "<matplotlib.axes._subplots.AxesSubplot at 0x228c38288b0>"
      ]
     },
     "execution_count": 6,
     "metadata": {},
     "output_type": "execute_result"
    },
    {
     "data": {
      "image/png": "[encoded data removed]",
      "text/plain": [
       "<Figure size 720x504 with 1 Axes>"
      ]
     },
     "metadata": {
      "needs_background": "light"
     },
     "output_type": "display_data"
    }
   ],
   "source": [
    "data['City'].value_counts(ascending=True).plot(kind='barh')"
   ]
  },
  {
   "cell_type": "markdown",
   "metadata": {},
   "source": [
    "Посмотрим, как изменится распределение в большом городе"
   ]
  },
  {
   "cell_type": "code",
   "execution_count": 7,
   "metadata": {},
   "outputs": [
    {
     "data": {
      "text/plain": [
       "<matplotlib.axes._subplots.AxesSubplot at 0x228c3b190d0>"
      ]
     },
     "execution_count": 7,
     "metadata": {},
     "output_type": "execute_result"
    },
    {
     "data": {
      "image/png": "[encoded data removed]",
      "text/plain": [
       "<Figure size 720x504 with 1 Axes>"
      ]
     },
     "metadata": {
      "needs_background": "light"
     },
     "output_type": "display_data"
    }
   ],
   "source": [
    "data['Ranking'][data['City'] =='London'].hist(bins=100)"
   ]
  },
  {
   "cell_type": "code",
   "execution_count": 8,
   "metadata": {},
   "outputs": [
    {
     "data": {
      "image/png": "[encoded data removed]",
      "text/plain": [
       "<Figure size 720x504 with 1 Axes>"
      ]
     },
     "metadata": {
      "needs_background": "light"
     },
     "output_type": "display_data"
    }
   ],
   "source": [
    "# посмотрим на топ 10 городов\n",
    "for x in (data['City'].value_counts())[0:10].index:\n",
    "    data['Ranking'][data['City'] == x].hist(bins=100)\n",
    "plt.show()"
   ]
  },
  {
   "cell_type": "markdown",
   "metadata": {},
   "source": [
    "Получается, что Ranking имеет нормальное распределение, просто в больших городах больше ресторанов, из-за мы этого имеем смещение."
   ]
  },
  {
   "cell_type": "markdown",
   "metadata": {},
   "source": [
    "# Посмотрим распределение целевой переменной"
   ]
  },
  {
   "cell_type": "code",
   "execution_count": 9,
   "metadata": {},
   "outputs": [
    {
     "data": {
      "text/plain": [
       "<matplotlib.axes._subplots.AxesSubplot at 0x228c45408e0>"
      ]
     },
     "execution_count": 9,
     "metadata": {},
     "output_type": "execute_result"
    },
    {
     "data": {
      "image/png": "[encoded data removed]",
      "text/plain": [
       "<Figure size 720x504 with 1 Axes>"
      ]
     },
     "metadata": {
      "needs_background": "light"
     },
     "output_type": "display_data"
    }
   ],
   "source": [
    "data['Rating'].value_counts(ascending=True).plot(kind='barh')"
   ]
  },
  {
   "cell_type": "markdown",
   "metadata": {},
   "source": [
    "Посмотрим распределение целевой переменной относительно признака"
   ]
  },
  {
   "cell_type": "code",
   "execution_count": 10,
   "metadata": {},
   "outputs": [
    {
     "data": {
      "text/plain": [
       "<matplotlib.axes._subplots.AxesSubplot at 0x228c4799250>"
      ]
     },
     "execution_count": 10,
     "metadata": {},
     "output_type": "execute_result"
    },
    {
     "data": {
      "image/png": "[encoded data removed]",
      "text/plain": [
       "<Figure size 720x504 with 1 Axes>"
      ]
     },
     "metadata": {
      "needs_background": "light"
     },
     "output_type": "display_data"
    }
   ],
   "source": [
    "data['Ranking'][data['Rating'] == 5].hist(bins=100)"
   ]
  },
  {
   "cell_type": "code",
   "execution_count": 11,
   "metadata": {},
   "outputs": [
    {
     "data": {
      "text/plain": [
       "<matplotlib.axes._subplots.AxesSubplot at 0x228c3c92910>"
      ]
     },
     "execution_count": 11,
     "metadata": {},
     "output_type": "execute_result"
    },
    {
     "data": {
      "image/png": "[encoded data removed]",
      "text/plain": [
       "<Figure size 720x504 with 1 Axes>"
      ]
     },
     "metadata": {
      "needs_background": "light"
     },
     "output_type": "display_data"
    }
   ],
   "source": [
    "data['Ranking'][data['Rating'] < 4].hist(bins=100)"
   ]
  },
  {
   "cell_type": "code",
   "execution_count": 13,
   "metadata": {},
   "outputs": [
    {
     "data": {
      "text/plain": [
       "<matplotlib.axes._subplots.AxesSubplot at 0x228c45fad30>"
      ]
     },
     "execution_count": 13,
     "metadata": {},
     "output_type": "execute_result"
    },
    {
     "data": {
      "image/png": "[encoded data removed]",
      "text/plain": [
       "<Figure size 1080x720 with 2 Axes>"
      ]
     },
     "metadata": {
      "needs_background": "light"
     },
     "output_type": "display_data"
    }
   ],
   "source": [
    "# Посмотрим корреляцию принаков\n",
    "plt.rcParams['figure.figsize'] = (15,10)\n",
    "sns.heatmap(data.corr(),)"
   ]
  },
  {
   "cell_type": "markdown",
   "metadata": {},
   "source": [
    "Сначала я провел скрапинг недостающих данных (датасеты в папке 'ta-scarping'), но по какой-то причине их использование в модели только ухудшили ее результативность"
   ]
  },
  {
   "cell_type": "code",
   "execution_count": 14,
   "metadata": {},
   "outputs": [],
   "source": [
    "# изменяем названия столбцов для более удобного их использования\n",
    "data.columns = ['id', 'city', 'cuisine', 'ranking', 'rating',\n",
    "                'price', 'reviews_count', 'reviews', 'url_ta', 'id_ta']"
   ]
  },
  {
   "cell_type": "code",
   "execution_count": 15,
   "metadata": {},
   "outputs": [],
   "source": [
    "# исправляем название города\n",
    "data.city[data.city == 'Oporto'] = 'Porto'"
   ]
  },
  {
   "cell_type": "code",
   "execution_count": 16,
   "metadata": {},
   "outputs": [],
   "source": [
    "# убираем не нужные для модели признаки\n",
    "data.drop(['url_ta'], axis=1, inplace=True)"
   ]
  },
  {
   "cell_type": "code",
   "execution_count": 17,
   "metadata": {},
   "outputs": [],
   "source": [
    "# добавляем столбцы с указанием несуществующих значений\n",
    "data['reviews_count_isNAN'] = pd.isna(data['reviews_count']).astype('uint8')\n",
    "data['price_isNAN'] = pd.isna(data['price']).astype('uint8')\n",
    "data['cuisine_isNAN'] = pd.isna(data['cuisine']).astype('uint8')"
   ]
  },
  {
   "cell_type": "code",
   "execution_count": 18,
   "metadata": {},
   "outputs": [],
   "source": [
    "# заполянем недостающие данные 'price' самым часто используемым значением\n",
    "data.price = data.price.astype(str).apply(\n",
    "    lambda x: 2 if x == '$$ - $$$' else 1 if x == '$'\n",
    "    else 3 if x == '$$$$' else 2 if x == 'None' else x)"
   ]
  },
  {
   "cell_type": "code",
   "execution_count": 19,
   "metadata": {},
   "outputs": [],
   "source": [
    "# добавляем dummies 'cuisine'\n",
    "sup_df = data.copy()\n",
    "sup_df['cuisine'] = sup_df['cuisine'].astype(\n",
    "    str).apply(lambda x: x.replace(\"[\", \"\"))\n",
    "sup_df['cuisine'] = sup_df['cuisine'].astype(\n",
    "    str).apply(lambda x: x.replace(\"]\", \"\"))\n",
    "sup_df['cuisine'] = sup_df['cuisine'].astype(\n",
    "    str).apply(lambda x: x.replace(\"'\", \"\"))\n",
    "sup_df['cuisine'] = sup_df['cuisine'].astype(\n",
    "    str).apply(lambda x: x.split(', '))\n",
    "extra = sup_df.explode('cuisine')\n",
    "most_cui = []\n",
    "for i in extra.cuisine.value_counts()[0:30].index:\n",
    "    most_cui.append(i)\n",
    "most_cui.append('Other')\n",
    "other_cui = []\n",
    "for i in extra.cuisine.value_counts()[30:].index:\n",
    "    other_cui.append(i)\n",
    "cui_df = pd.DataFrame(columns=most_cui)\n",
    "cui_df = pd.concat([data.cuisine, cui_df], axis=1)\n",
    "for i in cui_df.columns:\n",
    "    cui_df[i] = cui_df.cuisine.astype(str)\n",
    "for i in cui_df.columns[1:-1]:\n",
    "    cui_df[i] = cui_df[i].apply(lambda x: 1 if i in x else 0)\n",
    "for n in other_cui:\n",
    "    cui_df['Other'] = cui_df['Other'].astype(\n",
    "        str).apply(lambda x: '1' if n in x else x)\n",
    "cui_df['Other'] = cui_df['Other'].apply(lambda x: 1 if x == '1' else 0)\n",
    "cui_df = cui_df.drop(['cuisine'], axis=1)\n",
    "cui_df = cui_df.rename(columns=lambda x: 'cs_'+x)\n",
    "data = pd.concat([data, cui_df], axis=1)\n",
    "# добавим признак количества кухонь в ресторане\n",
    "data['cuisine_count'] = data['cuisine'].astype(str).apply(\n",
    "    lambda x: x.split(', ')).apply(lambda x: len(x))"
   ]
  },
  {
   "cell_type": "code",
   "execution_count": 20,
   "metadata": {},
   "outputs": [],
   "source": [
    "# добавляем dummies 'city'\n",
    "data = pd.concat([data, pd.get_dummies(\n",
    "    data['city'], prefix='city')], axis=1)"
   ]
  },
  {
   "cell_type": "code",
   "execution_count": 26,
   "metadata": {},
   "outputs": [],
   "source": [
    "# работает с количеством отзывов\n",
    "data.reviews_count = data.reviews_count.astype(\n",
    "    str).apply(lambda x: 0 if x == 'nan' else x)\n",
    "data.reviews_count = data.reviews_count.astype(float)\n",
    "number_of_reviews_mean = data.groupby('city')['reviews_count'].mean()\n",
    "data['reviews_count'] = data.apply(\n",
    "    lambda row: number_of_reviews_mean[row['city']] if\n",
    "    row['reviews_count'] == 0 else row['reviews_count'], axis=1)\n",
    "# можно предположить, что id_ta имеет отношение к времени регистрации ресторана на TA,\n",
    "# соответственно можно считать, что это ординальный признак,\n",
    "# также он имеет отношение к количеству комментариев\n",
    "data['id_ta'] = data['id_ta'].astype(str).apply(lambda x: x[1:])\n",
    "data['id_ta'] = data['id_ta'].apply(lambda x: float(x))\n",
    "# свяжем количество отзывов и новизну создания странички ресторана на ТА\n",
    "data['rev_count_per_id'] = data.reviews_count * data.id_ta"
   ]
  },
  {
   "cell_type": "code",
   "execution_count": 27,
   "metadata": {},
   "outputs": [],
   "source": [
    "# на основе 'city' сохданим новые признаки: является ли город столицей, его популцию и страну\n",
    "data['country'] = data.city.apply(lambda x: cities.loc[x].Country)\n",
    "data['population'] = data.city.apply(\n",
    "    lambda x: cities.loc[x].Population)\n",
    "capital_list = []\n",
    "for i in capitals.capital:\n",
    "    capital_list.append(i)\n",
    "data['capital'] = data.city.apply(\n",
    "    lambda x: 1 if x in capital_list else 0)"
   ]
  },
  {
   "cell_type": "code",
   "execution_count": 28,
   "metadata": {},
   "outputs": [],
   "source": [
    "# добавим новые данные: индекс качества жизни и индекс покупательных способностей\n",
    "data['life_index']=data['country'].apply(\n",
    "    lambda x: life.loc[x]['Quality of life index'])\n",
    "data.life_index = data.life_index.astype(float)\n",
    "data['purchase_index']=data['country'].apply(\n",
    "    lambda x: life.loc[x]['The index of purchasing power'])\n",
    "data.purchase_index = data.purchase_index.astype(float)"
   ]
  },
  {
   "cell_type": "code",
   "execution_count": 29,
   "metadata": {},
   "outputs": [],
   "source": [
    "# вычисляем к-во ресторанов для города в каждой строке и количество ресторанов в городе\n",
    "res_count_per_city = data.groupby('city')['ranking'].count().to_dict()\n",
    "data['rests_in_city'] = data['city'].map(res_count_per_city)\n",
    "data['ranking_per_city'] = data['ranking'] / data['rests_in_city']\n",
    "# добавим среднее коичество людей на 1 ресторан в городе\n",
    "data['pop_per_rest'] = data['population'] / data['rests_in_city']\n",
    "# частота отзывов с учетом популяции\n",
    "data['rev_count_pop'] = data['reviews_count'] / data['population']\n",
    "# ранг по городам, с учетом их популяции\n",
    "data['ranking_per_pop'] = data['ranking_per_city'] * data['rev_count_pop']"
   ]
  },
  {
   "cell_type": "code",
   "execution_count": 30,
   "metadata": {},
   "outputs": [],
   "source": [
    "# созданем новые признаки: даты указанных комментариев и их разница\n",
    "temp_df = data.reviews.str.split('],', expand=True)\n",
    "data['review_text'] = temp_df[0]\n",
    "data['review_date'] = temp_df[1]\n",
    "data.review_text = data.review_text.astype(\n",
    "    str).apply(lambda x: x.replace(\"[\", \"\"))\n",
    "data.review_date = data.review_date.astype(\n",
    "    str).apply(lambda x: x.replace(\"[\", \"\"))\n",
    "data.review_date = data.review_date.astype(\n",
    "    str).apply(lambda x: x.replace(\"]\", \"\"))\n",
    "temp_df = data.review_date.str.split(', ', expand=True)\n",
    "data['first_rev_date'] = temp_df[0]\n",
    "data['second_rev_date'] = temp_df[1]\n",
    "data['first_rev_date'] = data['first_rev_date'].apply(\n",
    "    lambda x: x.replace(\"'\", \"\"))\n",
    "data['first_rev_date'] = data['first_rev_date'].apply(\n",
    "    lambda x: x.replace(\" \", \"\"))\n",
    "data['first_rev_date'] = data['first_rev_date'].apply(\n",
    "    lambda x: x.replace(\"ju...\", \"\"))\n",
    "data['first_rev_date'][data['first_rev_date'] == ''] = None\n",
    "data['first_rev_date'][data['first_rev_date'] == 'nan'] = None\n",
    "data['first_rev_date_isNAN'] = pd.isna(\n",
    "    data['first_rev_date']).astype('uint8')\n",
    "data['second_rev_date_isNAN'] = pd.isna(\n",
    "    data['second_rev_date']).astype('uint8')\n",
    "data.second_rev_date = data.second_rev_date.apply(\n",
    "    lambda x: datetime.strptime(x, \"'%m/%d/%Y'\").timestamp() if x != None else 0.0)\n",
    "data.first_rev_date = data.first_rev_date.apply(\n",
    "    lambda x: datetime.strptime(x, '%m/%d/%Y').timestamp() if x != None else 0.0)\n",
    "data['delta'] = data.first_rev_date - data.second_rev_date"
   ]
  },
  {
   "cell_type": "code",
   "execution_count": 31,
   "metadata": {},
   "outputs": [],
   "source": [
    "# созданем новые признаки: имеет или не имеет 1 и 2 комментарий слова положительной и отрицательной окраски\n",
    "temp_df = data.review_text.str.split(', ', expand=True)\n",
    "data['first_review'] = temp_df[0]\n",
    "data['first_review'] = data['first_review'].apply(\n",
    "    lambda x: x.replace(\"'\", \"\") if x != None else x)\n",
    "data['second_review'] = temp_df[1]\n",
    "data['second_review'] = data['second_review'].apply(\n",
    "    lambda x: x.replace(\"'\", \"\") if x != None else x)\n",
    "g_list = []\n",
    "for i in g_words[0]:\n",
    "    g_list.append(i)\n",
    "b_list = []\n",
    "for i in b_words[0]:\n",
    "    b_list.append(i)\n",
    "data['first_rev_cons'] = data.first_review.astype(\n",
    "    str).apply(lambda x: x.lower())\n",
    "data['second_rev_cons'] = data.second_review.astype(\n",
    "    str).apply(lambda x: x.lower())\n",
    "data['first_rev_pros'] = data.first_review.astype(\n",
    "    str).apply(lambda x: x.lower())\n",
    "data['second_rev_pros'] = data.second_review.astype(\n",
    "    str).apply(lambda x: x.lower())\n",
    "for b in b_list:\n",
    "    data['first_rev_cons'][data['first_rev_cons'].str.contains(\n",
    "        b.lower(), na=False)] = '0'\n",
    "    data['second_rev_cons'][data['second_rev_cons'].str.contains(\n",
    "        b.lower(), na=False)] = '0'\n",
    "data['first_rev_cons'] = data['first_rev_cons'].apply(\n",
    "    lambda x: '1' if x != '0' else x)\n",
    "data['second_rev_cons'] = data['second_rev_cons'].apply(\n",
    "    lambda x: '1' if x != '0' else x)\n",
    "for g in g_list:\n",
    "    data['first_rev_pros'][data['first_rev_pros'].str.contains(\n",
    "        g.lower(), na=False)] = '1'\n",
    "    data['second_rev_pros'][data['second_rev_pros'].str.contains(\n",
    "        g.lower(), na=False)] = '1'\n",
    "data['first_rev_pros'] = data['first_rev_pros'].apply(\n",
    "    lambda x: '0' if x != '1' else x)\n",
    "data['second_rev_pros'] = data['second_rev_pros'].apply(\n",
    "    lambda x: '0' if x != '1' else x)\n",
    "data['first_rev_cons'] = data['first_rev_cons'].apply(lambda x: int(x))\n",
    "data['second_rev_cons'] = data['second_rev_cons'].apply(lambda x: int(x))\n",
    "data['first_rev_pros'] = data['first_rev_pros'].apply(lambda x: int(x))\n",
    "data['second_rev_pros'] = data['second_rev_pros'].apply(lambda x: int(x))"
   ]
  },
  {
   "cell_type": "code",
   "execution_count": 32,
   "metadata": {},
   "outputs": [],
   "source": [
    "object_columns = [s for s in data.columns if data[s].dtypes == 'object']\n",
    "data.drop(object_columns, axis=1, inplace=True)"
   ]
  },
  {
   "cell_type": "code",
   "execution_count": 39,
   "metadata": {},
   "outputs": [
    {
     "name": "stdout",
     "output_type": "stream",
     "text": [
      "<class 'pandas.core.frame.DataFrame'>\n",
      "Index: 40000 entries, 0 to 39999\n",
      "Data columns (total 89 columns):\n",
      " #   Column                  Non-Null Count  Dtype  \n",
      "---  ------                  --------------  -----  \n",
      " 0   ranking                 40000 non-null  float64\n",
      " 1   rating                  40000 non-null  float64\n",
      " 2   reviews_count           40000 non-null  float64\n",
      " 3   id_ta                   40000 non-null  float64\n",
      " 4   reviews_count_isNAN     40000 non-null  uint8  \n",
      " 5   price_isNAN             40000 non-null  uint8  \n",
      " 6   cuisine_isNAN           40000 non-null  uint8  \n",
      " 7   cs_Vegetarian Friendly  40000 non-null  int64  \n",
      " 8   cs_European             40000 non-null  int64  \n",
      " 9   cs_nan                  40000 non-null  int64  \n",
      " 10  cs_Mediterranean        40000 non-null  int64  \n",
      " 11  cs_Italian              40000 non-null  int64  \n",
      " 12  cs_Vegan Options        40000 non-null  int64  \n",
      " 13  cs_Gluten Free Options  40000 non-null  int64  \n",
      " 14  cs_Bar                  40000 non-null  int64  \n",
      " 15  cs_French               40000 non-null  int64  \n",
      " 16  cs_Asian                40000 non-null  int64  \n",
      " 17  cs_Pizza                40000 non-null  int64  \n",
      " 18  cs_Spanish              40000 non-null  int64  \n",
      " 19  cs_Pub                  40000 non-null  int64  \n",
      " 20  cs_Cafe                 40000 non-null  int64  \n",
      " 21  cs_Fast Food            40000 non-null  int64  \n",
      " 22  cs_British              40000 non-null  int64  \n",
      " 23  cs_International        40000 non-null  int64  \n",
      " 24  cs_Seafood              40000 non-null  int64  \n",
      " 25  cs_Japanese             40000 non-null  int64  \n",
      " 26  cs_Central European     40000 non-null  int64  \n",
      " 27  cs_American             40000 non-null  int64  \n",
      " 28  cs_Sushi                40000 non-null  int64  \n",
      " 29  cs_Chinese              40000 non-null  int64  \n",
      " 30  cs_Portuguese           40000 non-null  int64  \n",
      " 31  cs_Indian               40000 non-null  int64  \n",
      " 32  cs_Middle Eastern       40000 non-null  int64  \n",
      " 33  cs_Thai                 40000 non-null  int64  \n",
      " 34  cs_Wine Bar             40000 non-null  int64  \n",
      " 35  cs_German               40000 non-null  int64  \n",
      " 36  cs_Healthy              40000 non-null  int64  \n",
      " 37  cs_Other                40000 non-null  int64  \n",
      " 38  cuisine_count           40000 non-null  int64  \n",
      " 39  city_Amsterdam          40000 non-null  uint8  \n",
      " 40  city_Athens             40000 non-null  uint8  \n",
      " 41  city_Barcelona          40000 non-null  uint8  \n",
      " 42  city_Berlin             40000 non-null  uint8  \n",
      " 43  city_Bratislava         40000 non-null  uint8  \n",
      " 44  city_Brussels           40000 non-null  uint8  \n",
      " 45  city_Budapest           40000 non-null  uint8  \n",
      " 46  city_Copenhagen         40000 non-null  uint8  \n",
      " 47  city_Dublin             40000 non-null  uint8  \n",
      " 48  city_Edinburgh          40000 non-null  uint8  \n",
      " 49  city_Geneva             40000 non-null  uint8  \n",
      " 50  city_Hamburg            40000 non-null  uint8  \n",
      " 51  city_Helsinki           40000 non-null  uint8  \n",
      " 52  city_Krakow             40000 non-null  uint8  \n",
      " 53  city_Lisbon             40000 non-null  uint8  \n",
      " 54  city_Ljubljana          40000 non-null  uint8  \n",
      " 55  city_London             40000 non-null  uint8  \n",
      " 56  city_Luxembourg         40000 non-null  uint8  \n",
      " 57  city_Lyon               40000 non-null  uint8  \n",
      " 58  city_Madrid             40000 non-null  uint8  \n",
      " 59  city_Milan              40000 non-null  uint8  \n",
      " 60  city_Munich             40000 non-null  uint8  \n",
      " 61  city_Oslo               40000 non-null  uint8  \n",
      " 62  city_Paris              40000 non-null  uint8  \n",
      " 63  city_Porto              40000 non-null  uint8  \n",
      " 64  city_Prague             40000 non-null  uint8  \n",
      " 65  city_Rome               40000 non-null  uint8  \n",
      " 66  city_Stockholm          40000 non-null  uint8  \n",
      " 67  city_Vienna             40000 non-null  uint8  \n",
      " 68  city_Warsaw             40000 non-null  uint8  \n",
      " 69  city_Zurich             40000 non-null  uint8  \n",
      " 70  rev_count_per_id        40000 non-null  float64\n",
      " 71  population              40000 non-null  int64  \n",
      " 72  capital                 40000 non-null  int64  \n",
      " 73  life_index              40000 non-null  float64\n",
      " 74  purchase_index          40000 non-null  float64\n",
      " 75  rests_in_city           40000 non-null  int64  \n",
      " 76  ranking_per_city        40000 non-null  float64\n",
      " 77  pop_per_rest            40000 non-null  float64\n",
      " 78  rev_count_pop           40000 non-null  float64\n",
      " 79  ranking_per_pop         40000 non-null  float64\n",
      " 80  first_rev_date          40000 non-null  float64\n",
      " 81  second_rev_date         40000 non-null  float64\n",
      " 82  first_rev_date_isNAN    40000 non-null  uint8  \n",
      " 83  second_rev_date_isNAN   40000 non-null  uint8  \n",
      " 84  delta                   40000 non-null  float64\n",
      " 85  first_rev_cons          40000 non-null  int64  \n",
      " 86  second_rev_cons         40000 non-null  int64  \n",
      " 87  first_rev_pros          40000 non-null  int64  \n",
      " 88  second_rev_pros         40000 non-null  int64  \n",
      "dtypes: float64(14), int64(39), uint8(36)\n",
      "memory usage: 19.1+ MB\n"
     ]
    }
   ],
   "source": [
    "data.info()"
   ]
  },
  {
   "cell_type": "markdown",
   "metadata": {},
   "source": [
    "# Включаем модель"
   ]
  },
  {
   "cell_type": "code",
   "execution_count": 33,
   "metadata": {},
   "outputs": [],
   "source": [
    "# Х - данные с информацией о ресторанах, у - целевая переменная (рейтинги ресторанов)\n",
    "X = data.drop(['rating'], axis = 1)\n",
    "y = data['rating']"
   ]
  },
  {
   "cell_type": "code",
   "execution_count": 34,
   "metadata": {},
   "outputs": [],
   "source": [
    "# Загружаем специальный инструмент для разбивки:\n",
    "from sklearn.model_selection import train_test_split"
   ]
  },
  {
   "cell_type": "code",
   "execution_count": 35,
   "metadata": {},
   "outputs": [],
   "source": [
    "# Наборы данных с меткой \"train\" будут использоваться для обучения модели, \"test\" - для тестирования.\n",
    "# Для тестирования мы будем использовать 25% от исходного датасета.\n",
    "X_train, X_test, y_train, y_test = train_test_split(X, y, test_size=0.25)"
   ]
  },
  {
   "cell_type": "code",
   "execution_count": 36,
   "metadata": {},
   "outputs": [],
   "source": [
    "# Импортируем необходимые библиотеки:\n",
    "from sklearn.ensemble import RandomForestRegressor # инструмент для создания и обучения модели\n",
    "from sklearn import metrics # инструменты для оценки точности модели"
   ]
  },
  {
   "cell_type": "code",
   "execution_count": 37,
   "metadata": {},
   "outputs": [],
   "source": [
    "# Создаём модель\n",
    "regr = RandomForestRegressor(n_estimators=100)\n",
    "# Обучаем модель на тестовом наборе данных\n",
    "regr.fit(X_train, y_train)\n",
    "# Используем обученную модель для предсказания рейтинга ресторанов в тестовой выборке.\n",
    "# Предсказанные значения записываем в переменную y_pred\n",
    "y_pred = regr.predict(X_test)"
   ]
  },
  {
   "cell_type": "code",
   "execution_count": 38,
   "metadata": {},
   "outputs": [
    {
     "name": "stdout",
     "output_type": "stream",
     "text": [
      "MAE: 0.20099299999999998\n"
     ]
    }
   ],
   "source": [
    "# Сравниваем предсказанные значения (y_pred) с реальными (y_test), и смотрим насколько они в среднем отличаются\n",
    "# Метрика называется Mean Absolute Error (MAE) и показывает среднее отклонение предсказанных значений от фактических.\n",
    "print('MAE:', metrics.mean_absolute_error(y_test, y_pred))"
   ]
  },
  {
   "cell_type": "code",
   "execution_count": null,
   "metadata": {},
   "outputs": [],
   "source": []
  },
  {
   "cell_type": "code",
   "execution_count": null,
   "metadata": {},
   "outputs": [],
   "source": [
    "#функции для скрапинга недостающих значений\n",
    "def get_cui(url):\n",
    "    r = requests.get(url)\n",
    "    content = r.content.decode('utf-8')\n",
    "    soup = BeautifulSoup(content, 'html.parser')\n",
    "    return soup.find('div', id=\"taplc_enable_cpm_desktop_0\")\n",
    "\n",
    "\n",
    "def get_cuisine(url):\n",
    "    cu_list = []\n",
    "    for i in str(get_cui(url)).rpartition('\"cuisine\":[')[2].rpartition('],\"kw\":[\"')[0].split():\n",
    "        for n in cuisine_list:\n",
    "            if n in i:\n",
    "                cu_list.append(n)\n",
    "    return cu_list\n",
    "\n",
    "\n",
    "def get_pri(url):\n",
    "    r = requests.get(url)\n",
    "    content = r.content.decode('utf-8')\n",
    "    BeautifulSoup(content, 'html.parser')\n",
    "    return soup.find('script', type=\"application/ld+json\")\n",
    "\n",
    "\n",
    "def get_price(url):\n",
    "    cu_list = []\n",
    "    for i in str(get_pri(url)).replace(\" \", \"\").split():\n",
    "        for n in price_list:\n",
    "            if n in i:\n",
    "                cu_list.append(n)\n",
    "    return cu_list\n",
    "\n",
    "\n",
    "def get_rev(url):\n",
    "    r = requests.get(url)\n",
    "    content = r.content.decode('utf-8')\n",
    "    soup = BeautifulSoup(content, 'html.parser')\n",
    "    return soup.find('script', type=\"application/ld+json\")\n",
    "\n",
    "\n",
    "def get_review(url):\n",
    "    return str(get_rev(url)).rpartition('\"reviewCount\":\"')[2].rpartition('\"},\"address\"')[0]\n",
    "\n",
    "#a = df.url_ta[df.price.astype(str) == 'nan'].apply(lambda x: get_price(x))\n",
    "# a.to_csv('review_nums')\n",
    "#b = df.url_ta[df.review_num.astype(str) == 'nan'].apply(lambda x: get_review(x))\n",
    "# b.to_csv('review_nums')\n",
    "#c = df.url_ta[df.cuisine.astype(str) == 'nan'].apply(lambda x: get_cuisine(x))\n",
    "# c.to_csv('cuisines_best')"
   ]
  }
 ],
 "metadata": {
  "kernelspec": {
   "display_name": "Python 3",
   "language": "python",
   "name": "python3"
  },
  "language_info": {
   "codemirror_mode": {
    "name": "ipython",
    "version": 3
   },
   "file_extension": ".py",
   "mimetype": "text/x-python",
   "name": "python",
   "nbconvert_exporter": "python",
   "pygments_lexer": "ipython3",
   "version": "3.8.3"
  }
 },
 "nbformat": 4,
 "nbformat_minor": 4
}
